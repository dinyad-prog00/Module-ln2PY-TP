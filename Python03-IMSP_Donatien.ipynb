{
 "cells": [
  {
   "cell_type": "code",
   "execution_count": 1,
   "id": "d05c8c7c",
   "metadata": {},
   "outputs": [
    {
     "name": "stdout",
     "output_type": "stream",
     "text": [
      "a5jopquuxzàè\n"
     ]
    }
   ],
   "source": [
    "def M(s1,s2):\n",
    "    i,j,rslt=0,0,\"\"\n",
    "    while i < len(s1) and j < len(s2):\n",
    "        if s1[i] < s2[j]:\n",
    "            rslt = rslt+s1[i]\n",
    "            i=i+1\n",
    "        else:\n",
    "            rslt = rslt+s2[j]\n",
    "            j=j+1\n",
    "    rslt=rslt+s1[i:]\n",
    "    rslt=rslt+s2[j:]\n",
    "    return rslt\n",
    "            \n",
    "\n",
    "print(M(\"a5uuè\",\"jopqxzà\"))\n",
    "            "
   ]
  },
  {
   "cell_type": "code",
   "execution_count": 7,
   "id": "b49a8399",
   "metadata": {},
   "outputs": [
    {
     "name": "stdout",
     "output_type": "stream",
     "text": [
      "adlnsuvzz\n"
     ]
    }
   ],
   "source": [
    "def S(st):\n",
    "    if len(st)==0 or len(st)==1:\n",
    "        return st\n",
    "    else:                      # Short by merge\n",
    "        g=st[:int(len(st)/2)]\n",
    "        d=st[int(len(st)/2):]\n",
    "        return M(S(g),S(d))\n",
    "    \n",
    "print(S(\"azzunsvld\"))\n",
    "    "
   ]
  },
  {
   "cell_type": "code",
   "execution_count": 9,
   "id": "d80c2f16",
   "metadata": {},
   "outputs": [
    {
     "name": "stdout",
     "output_type": "stream",
     "text": [
      "aabddik\n"
     ]
    }
   ],
   "source": [
    "#Second version of M\n",
    "def M2(s1,s2):\n",
    "    return S(s1+s2)\n",
    "\n",
    "print(M2(\"adb\",\"dkia\"))"
   ]
  },
  {
   "cell_type": "code",
   "execution_count": 13,
   "id": "7af516cf",
   "metadata": {},
   "outputs": [
    {
     "name": "stdout",
     "output_type": "stream",
     "text": [
      "Phrase :fjdjdgidjdjo\n",
      "First vowel : i\n"
     ]
    }
   ],
   "source": [
    "# e) i-)\n",
    "def first_vowel():\n",
    "    vowel=\"aeiouy\"\n",
    "    ph=input(\"Phrase :\")\n",
    "    found=False\n",
    "    for c in ph:\n",
    "        if c in vowel:\n",
    "            print(\"First vowel : \"+c)\n",
    "            found=True\n",
    "            break\n",
    "    if not found :\n",
    "        print(\"No vowel !\")\n",
    "        \n",
    "first_vowel()\n",
    "    "
   ]
  },
  {
   "cell_type": "code",
   "execution_count": 20,
   "id": "7c31fa5e",
   "metadata": {},
   "outputs": [
    {
     "name": "stdout",
     "output_type": "stream",
     "text": [
      "Phrase :sdfdf\n",
      "It has 0 vowel.\n"
     ]
    }
   ],
   "source": [
    "#e) ii-)\n",
    "def isVowel(c):\n",
    "     vowel=\"aeiouy\"\n",
    "     return c in vowel\n",
    "\n",
    "def countVowel():\n",
    "    count=0\n",
    "    ph=input(\"Phrase :\")\n",
    "    for c in ph:\n",
    "        if(isVowel(c)):\n",
    "            count=count+1\n",
    "    print(\"It has {} vowel.\".format(count))\n",
    "\n",
    "countVowel()\n",
    "    "
   ]
  },
  {
   "cell_type": "code",
   "execution_count": 22,
   "id": "1cb42ee3",
   "metadata": {},
   "outputs": [
    {
     "name": "stdout",
     "output_type": "stream",
     "text": [
      "Your letter :jh\n",
      "Not a letter\n",
      "Your letter :l\n",
      "L\n",
      "Your letter :m\n",
      "M\n",
      "Your letter :f\n",
      "F\n",
      "Your letter :f\n",
      "F\n",
      "Your letter :1\n"
     ]
    }
   ],
   "source": [
    "# e) iii-)\n",
    "\n",
    "def readLetters():\n",
    "    l=input(\"Your letter :\")\n",
    "    while not l.isdigit():\n",
    "        if len(l)==1:\n",
    "            print(l.upper())\n",
    "        else:\n",
    "            print(\"Not a letter\")\n",
    "        l=input(\"Your letter :\")\n",
    "readLetters()"
   ]
  },
  {
   "cell_type": "code",
   "execution_count": 24,
   "id": "62ce770a",
   "metadata": {},
   "outputs": [
    {
     "name": "stdout",
     "output_type": "stream",
     "text": [
      "Phrase :azeejzodioaokdbj\n",
      "Must be upper !\n",
      "Phrase :EAZEOZEHFNZOZIOEAZJKDFBZIO\n",
      "Counts :\n",
      "A appears 2 time(s)\n",
      "E appears 4 time(s)\n",
      "O appears 4 time(s)\n",
      "I appears 2 time(s)\n",
      "U appears 0 time(s)\n",
      "Y appears 0 time(s)\n"
     ]
    }
   ],
   "source": [
    "# iv-)\n",
    "def countVowelSep():\n",
    "    vowel=\"AEOIUY\"\n",
    "    count=[0,0,0,0,0,0]\n",
    "    ph=input(\"Phrase :\")\n",
    "    while(ph != ph.upper()):\n",
    "        print(\"Must be upper !\")\n",
    "        ph=input(\"Phrase :\")\n",
    "    for c in ph:\n",
    "        for i in range(6):\n",
    "            if c == vowel[i]:\n",
    "                count[i]=count[i]+1\n",
    "    \n",
    "    print(\"Counts :\")\n",
    "    for i in range(6):\n",
    "        print(\"{} appears {} time(s)\".format(vowel[i],count[i]))\n",
    "    \n",
    "    \n",
    "    \n",
    "countVowelSep()"
   ]
  },
  {
   "cell_type": "code",
   "execution_count": 57,
   "id": "c0e1acf2",
   "metadata": {},
   "outputs": [
    {
     "name": "stdout",
     "output_type": "stream",
     "text": [
      "Phrase :fddc\n",
      "The number of times c appears is greater than that of c\n"
     ]
    }
   ],
   "source": [
    "# v-)\n",
    "def countbc():\n",
    "    b,c=0,0\n",
    "    \n",
    "    ph=input(\"Phrase :\")\n",
    "    for cr in ph:\n",
    "        if cr=='b':\n",
    "            b=b+1\n",
    "        elif cr=='c':\n",
    "            c=c+1\n",
    "    if b < c:\n",
    "        print(\"The number of times c appears is greater than that of c\")\n",
    "    elif b > c:\n",
    "        print(\"The number of times c appears is less than that of c\")\n",
    "    else:\n",
    "        print(\"The number of times c appears is equal to  that of c\")\n",
    "countbc()"
   ]
  },
  {
   "cell_type": "code",
   "execution_count": 30,
   "id": "9eeeeb37",
   "metadata": {},
   "outputs": [
    {
     "name": "stdout",
     "output_type": "stream",
     "text": [
      "Phrase :fdgkj djkghdfkjgj dfjkghjk\n",
      "Fdgkj Djkghdfkjgj Dfjkghjk\n"
     ]
    }
   ],
   "source": [
    "#vi-)\n",
    "def capitalize():\n",
    "    ph=input(\"Phrase :\")\n",
    "    lph=[c.capitalize() for c in ph.split(\" \") if c!=\"\"]\n",
    "    print(\" \".join(lph))\n",
    "    \n",
    "capitalize()"
   ]
  },
  {
   "cell_type": "code",
   "execution_count": 46,
   "id": "2faf8608",
   "metadata": {},
   "outputs": [
    {
     "name": "stdout",
     "output_type": "stream",
     "text": [
      "Phrase :azereza\n",
      "Oui\n"
     ]
    }
   ],
   "source": [
    "# vii-)\n",
    "def isPalindrome():\n",
    "    ph=input(\"Phrase :\")\n",
    "    ph1=\"\"\n",
    "    l=list(range(len(ph)))\n",
    "    l.reverse()\n",
    "    for i in l:\n",
    "        ph1=ph1+ph[i]\n",
    "    \n",
    "    if ph == ph1:\n",
    "        print(\"Oui\")\n",
    "    else:\n",
    "        print(\"Non\")\n",
    "isPalindrome()\n"
   ]
  },
  {
   "cell_type": "code",
   "execution_count": 51,
   "id": "3cc92396",
   "metadata": {},
   "outputs": [
    {
     "name": "stdout",
     "output_type": "stream",
     "text": [
      "Text:il est là je coirs\n",
      "Word:l\n",
      "Found 2 time(s)\n"
     ]
    }
   ],
   "source": [
    "# viii-)\n",
    "def textWord():\n",
    "    text=input(\"Text:\")\n",
    "    word=input(\"Word:\")\n",
    "    count=0\n",
    "    for i in range(len(text)):\n",
    "        if word in text[i:len(word)+i]:\n",
    "            count=count+1\n",
    "    print(\"Found {} time(s)\".format(count))\n",
    "textWord()"
   ]
  },
  {
   "cell_type": "code",
   "execution_count": 64,
   "id": "ae6410a3",
   "metadata": {},
   "outputs": [
    {
     "name": "stdout",
     "output_type": "stream",
     "text": [
      "The lowest possible score is 1, and the highest possible score is 10.\n",
      "A juge can give a gymnast 1 point\n",
      "A juge can give a gymnast 2 points\n",
      "A juge can give a gymnast 3 points\n",
      "A juge can give a gymnast 4 points\n",
      "A juge can give a gymnast 5 points\n",
      "A juge can give a gymnast 6 points\n",
      "A juge can give a gymnast 7 points\n",
      "A juge can give a gymnast 8 points\n",
      "A juge can give a gymnast 9 points\n",
      "A juge can give a gymnast 10 points\n"
     ]
    }
   ],
   "source": [
    "#f \n",
    "\n",
    "scores=tuple(range(1,11))\n",
    "\n",
    "print(\"The lowest possible score is {}, and the highest possible score is {}.\".format(scores[0],scores[9]))\n",
    "print(\"A juge can give a gymnast 1 point\")\n",
    "for i in range(1,10):\n",
    "    print(\"A juge can give a gymnast {} points\".format(scores[i]))\n",
    "#fin"
   ]
  }
 ],
 "metadata": {
  "kernelspec": {
   "display_name": "Python 3",
   "language": "python",
   "name": "python3"
  },
  "language_info": {
   "codemirror_mode": {
    "name": "ipython",
    "version": 3
   },
   "file_extension": ".py",
   "mimetype": "text/x-python",
   "name": "python",
   "nbconvert_exporter": "python",
   "pygments_lexer": "ipython3",
   "version": "3.8.5"
  }
 },
 "nbformat": 4,
 "nbformat_minor": 5
}
