{
 "cells": [
  {
   "cell_type": "markdown",
   "id": "625fbe19",
   "metadata": {},
   "source": [
    "# <center> <span style=\"color:blue\">TP02</span></center>\n",
    "\n",
    "\n",
    "### <center> <span style=\"color:green\"> Donatien Yeto</span></center>\n"
   ]
  },
  {
   "cell_type": "code",
   "execution_count": null,
   "id": "f2c8eea5",
   "metadata": {},
   "outputs": [],
   "source": [
    "# 1\n",
    "from math import sin, sqrt\n",
    "x=float(input(\"Enter x :\"))\n",
    "y=float(input(\"Enter y :\"))\n",
    "\n",
    "result = (sqrt(pow(x,2+y)))/(1/x + 2*sin(y))\n",
    "\n",
    "print(\"Result = {}\".format(result))"
   ]
  },
  {
   "cell_type": "code",
   "execution_count": null,
   "id": "4de58862",
   "metadata": {},
   "outputs": [],
   "source": [
    "# 2\n",
    "def ownpowerfn(b,n):\n",
    "    if n >=0:\n",
    "        p=1\n",
    "        for i in range(n):\n",
    "            p=p*b\n",
    "    \n",
    "        return p\n",
    "    else:\n",
    "        print(\"Error\")\n",
    "        return None\n",
    "\n",
    "print(ownpowerfn(4,2))\n",
    "\n",
    "# if we do not specify that n has to be positive, the method is wrong\n",
    "# for n can be < 0\n",
    "def ownpowerfn2(b,n):\n",
    "    if n >=0:\n",
    "        p=1\n",
    "        for i in range(n):\n",
    "            p=p*b\n",
    "    \n",
    "        return p\n",
    "    else:\n",
    "        p=1\n",
    "        for i in range(-n):\n",
    "            p=p*b\n",
    "    \n",
    "        return 1/p\n",
    "    \n",
    "print(ownpowerfn2(4,-2))\n",
    "        \n"
   ]
  },
  {
   "cell_type": "code",
   "execution_count": null,
   "id": "c6747dd2",
   "metadata": {},
   "outputs": [],
   "source": [
    "# 3 a\n",
    "from math import sqrt\n",
    "def arithmetic_mean(a,b):\n",
    "    return (a+b)/2\n",
    "\n",
    "def geometric_mean(a,b):\n",
    "    return sqrt(a*b)\n",
    "\n",
    "print(arithmetic_mean(10,20))\n",
    "print(geometric_mean(3,4))"
   ]
  },
  {
   "cell_type": "code",
   "execution_count": null,
   "id": "fa07f9ee",
   "metadata": {},
   "outputs": [],
   "source": [
    "# 3 b\n",
    "def celcius_to_fahrenheit(val):\n",
    "    return 1.8*val+32\n",
    "def fahrenheit_to_celcius(val):\n",
    "    return (val-32)/1.8\n",
    "\n",
    "print(celcius_to_fahrenheit(45))\n",
    "print(fahrenheit_to_celcius(10))"
   ]
  },
  {
   "cell_type": "code",
   "execution_count": null,
   "id": "af9c60c2",
   "metadata": {},
   "outputs": [],
   "source": [
    "# 3 c\n",
    "from math import pi\n",
    "def degrees_to_radians(val):\n",
    "    return val*pi/180\n",
    "def radians_to_degrees(val):\n",
    "    return val*180/pi\n",
    "\n",
    "print(degrees_to_radians(180))\n",
    "print(radians_to_degrees(pi))\n"
   ]
  },
  {
   "cell_type": "code",
   "execution_count": null,
   "id": "3769210d",
   "metadata": {},
   "outputs": [],
   "source": [
    "#4 a\n",
    "def avg_geom(a,b):\n",
    "    avg=(a+b)/2\n",
    "    geom=sqrt(a*b)\n",
    "    print(\"{}   {}\".format(avg,geom))\n",
    "    return avg,geom\n",
    "\n",
    "def avggeom(a,b):\n",
    "    avg=a\n",
    "    geom=b\n",
    "    for i in range(15):\n",
    "        avg,geom = avg_geom(avg,geom)\n",
    "\n",
    "avggeom(54,87)\n"
   ]
  },
  {
   "cell_type": "code",
   "execution_count": null,
   "id": "f4dde9fc",
   "metadata": {},
   "outputs": [],
   "source": [
    "# 4 b\n",
    "from math import sqrt,pow\n",
    "def distancefn(A,B):\n",
    "    return sqrt(pow(A[0]-B[0],2)+pow(A[1]-B[1],2))\n",
    "\n",
    "def triangle(A,B,C):\n",
    "    a=distancefn(B,C)\n",
    "    b=distancefn(A,C)\n",
    "    c=distancefn(A,B)\n",
    "    \n",
    "    #perimère\n",
    "    p=a+b+c\n",
    "    print(\"Perimeter = {}\".format(p))\n",
    "    \n",
    "    #area : Heron formula\n",
    "    q=p/2\n",
    "    area = sqrt(q*(q-a)*(q-b)*(q-c))\n",
    "    print(\"Area = {}\".format(area))\n",
    "    \n",
    "triangle((0,0),(0,4),(3,0))"
   ]
  },
  {
   "cell_type": "code",
   "execution_count": null,
   "id": "c03c6c3a",
   "metadata": {},
   "outputs": [],
   "source": [
    "from math import sqrt\n",
    "def equation():\n",
    "    print(\"Format : ax*x + bx +c =0\")\n",
    "    a=float(input(\"Enter a :\"))\n",
    "    b=float(input(\"Enter b :\"))\n",
    "    c=float(input(\"Enter c :\"))\n",
    "    \n",
    "    disc= b*b-4*a*c\n",
    "    \n",
    "    if disc==0:\n",
    "        print(\"Unique solution : {}\".format(-b/(2*a)))\n",
    "    elif disc > 0 :\n",
    "        print(\"Two real solution : {} an {}\".format((-b-sqrt(disc))/(2*a),(-b+sqrt(disc))/(2*a)))\n",
    "    else :\n",
    "        print(\"Complex : {} an {}.\".format(  complex( -b/(2*a) ,  sqrt(-disc)/(2*a) ), complex( -b/(2*a), -sqrt(-disc)/(2*a) )))\n",
    "\n",
    "def factorial(n):\n",
    "    if n==1:\n",
    "        return 1\n",
    "    else:\n",
    "        return n*factorial(n-1)\n",
    "\n",
    "def fact2nddeg():\n",
    "    go=True\n",
    "    while go:\n",
    "        print(\"\\n1-) Evaluation of factorial\\n2-)Evaluation of a second degree equation\\n3-)Exit\")\n",
    "        choix=int(input(\"Your choice :\"))\n",
    "        if choix == 1:\n",
    "            equation()\n",
    "        elif choix == 2 :\n",
    "            a=float(input(\"Enter n for computing factorial :\"))\n",
    "            print(factorial(a))\n",
    "        elif choix == 3 :\n",
    "            print(\"Bye\")\n",
    "            go=False\n",
    "        else:\n",
    "            print(\"Error\")\n",
    "\n",
    "fact2nddeg()"
   ]
  },
  {
   "cell_type": "code",
   "execution_count": null,
   "id": "408cca81",
   "metadata": {},
   "outputs": [],
   "source": [
    "# 6\n",
    "\n",
    "def power(x,n):\n",
    "    if(n==0):\n",
    "        return 1\n",
    "    else:\n",
    "        return x*power(x,n-1)\n",
    "\n",
    "print(power(2,3))"
   ]
  },
  {
   "cell_type": "code",
   "execution_count": null,
   "id": "64109ff5",
   "metadata": {},
   "outputs": [],
   "source": [
    "# 7 \n",
    "a0 = 5\n",
    "a1 = 2\n",
    "def fibonacci(n):\n",
    "    if n == 0:\n",
    "        return a0\n",
    "    elif n == 1:\n",
    "        return a1\n",
    "    else:\n",
    "        return fibonacci(n-2)+fibonacci(n-1)\n",
    "\n",
    "print(fibonacci(100))\n",
    "    "
   ]
  },
  {
   "cell_type": "code",
   "execution_count": 5,
   "id": "7d60fbb5",
   "metadata": {},
   "outputs": [
    {
     "name": "stdout",
     "output_type": "stream",
     "text": [
      "25\n"
     ]
    }
   ],
   "source": [
    "# 7 another method : the fast one\n",
    "a0 = 5\n",
    "a1 = 2\n",
    "def fibonacci2(n):\n",
    "    tmp0= a0\n",
    "    tmp1 =a1\n",
    "    tmp=tmp0+tmp1\n",
    "    if n == 0:\n",
    "        return a0\n",
    "    elif n == 1:\n",
    "        return a1\n",
    "    else:\n",
    "        for i in range(n):\n",
    "            tmp=tmp0+tmp1\n",
    "            tmp0=tmp1\n",
    "            tmp1=tmp\n",
    "        return tmp\n",
    "\n",
    "print(fibonacci2(4))\n",
    "    "
   ]
  }
 ],
 "metadata": {
  "kernelspec": {
   "display_name": "Python 3",
   "language": "python",
   "name": "python3"
  },
  "language_info": {
   "codemirror_mode": {
    "name": "ipython",
    "version": 3
   },
   "file_extension": ".py",
   "mimetype": "text/x-python",
   "name": "python",
   "nbconvert_exporter": "python",
   "pygments_lexer": "ipython3",
   "version": "3.8.5"
  }
 },
 "nbformat": 4,
 "nbformat_minor": 5
}
