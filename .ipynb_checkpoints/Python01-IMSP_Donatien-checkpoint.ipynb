{
 "cells": [
  {
   "cell_type": "markdown",
   "id": "7d72e516",
   "metadata": {},
   "source": [
    "# <center> <span style=\"color:blue\">TP01</span></center>\n",
    "# <center> <span style=\"color:blue\">Doing calculation the python way</span></center>\n",
    "\n",
    "\n",
    "### <center> <span style=\"color:green\"> Donatien Yeto</span></center>\n",
    "\n",
    "1 - Summations and products"
   ]
  },
  {
   "cell_type": "code",
   "execution_count": 5,
   "id": "d01c609d",
   "metadata": {},
   "outputs": [
    {
     "name": "stdout",
     "output_type": "stream",
     "text": [
      "Choise n :5\n",
      "La somme donne 10\n"
     ]
    }
   ],
   "source": [
    "# 1\n",
    "# i\n",
    "n=int(input(\"Choise n :\"))\n",
    "sum1=0\n",
    "for i in range(n):\n",
    "    if i%2: #odd\n",
    "        sum1=sum1+(i+3)\n",
    "print(\"La somme donne {}\".format(sum1))\n"
   ]
  },
  {
   "cell_type": "code",
   "execution_count": 4,
   "id": "73619a48",
   "metadata": {},
   "outputs": [
    {
     "name": "stdout",
     "output_type": "stream",
     "text": [
      "Choise n :2\n",
      "La somme donne 3\n"
     ]
    }
   ],
   "source": [
    "# ii\n",
    "n=int(input(\"Choise n :\"))\n",
    "sum1=0\n",
    "for i in range(n):\n",
    "    if not i%2: #even\n",
    "        sum1=sum1+(i+3)\n",
    "print(\"La somme donne {}\".format(sum1))"
   ]
  },
  {
   "cell_type": "code",
   "execution_count": 2,
   "id": "d6db7a6c",
   "metadata": {},
   "outputs": [
    {
     "name": "stdout",
     "output_type": "stream",
     "text": [
      "Choise a day number (0...6) :13\n",
      "Error\n"
     ]
    }
   ],
   "source": [
    "#2\n",
    "n = int(input(\"Choise a day number (0...6) :\"))\n",
    "if n  in range(7):\n",
    "    if n==0:\n",
    "        print(\"Lundi\")\n",
    "    elif n==1:\n",
    "        print(\"Mardi\")\n",
    "    elif n==2:\n",
    "        print(\"Mercredi\")\n",
    "    elif n==3:\n",
    "        print(\"Jeudi\")\n",
    "    elif n==4:\n",
    "        print(\"Vendredi\")\n",
    "    else:\n",
    "        print(\"Weekend\")\n",
    "else:\n",
    "    print(\"Error\")\n",
    "        "
   ]
  },
  {
   "cell_type": "code",
   "execution_count": 9,
   "id": "22e2d9fd",
   "metadata": {},
   "outputs": [
    {
     "name": "stdout",
     "output_type": "stream",
     "text": [
      "Choise a year number (0...11) :0\n",
      "31\n"
     ]
    }
   ],
   "source": [
    "# 3\n",
    "n = int(input(\"Choise a year number (0...11) :\"))\n",
    "if n in range(12):\n",
    "    if n in [0 ,2 ,4, 6, 7, 9,11] :\n",
    "        print(31)\n",
    "    elif n in [3, 5, 8,10] :\n",
    "        print(30)\n",
    "    else:print(28)\n",
    "else:\n",
    "    print(\"Error\")\n"
   ]
  },
  {
   "cell_type": "code",
   "execution_count": 10,
   "id": "081a0b25-0a75-4578-89a6-75fdd857ff95",
   "metadata": {},
   "outputs": [
    {
     "name": "stdout",
     "output_type": "stream",
     "text": [
      "Donatien\n",
      "Donatien\n",
      "Donatien\n",
      "Donatien\n",
      "Donatien\n",
      "Donatien\n"
     ]
    }
   ],
   "source": [
    "# 4\n",
    "for i in range(3):\n",
    "    print(\"Donatien\")\n",
    "i=0\n",
    "while i < 3:\n",
    "    print(\"Donatien\")\n",
    "    i=i+1"
   ]
  },
  {
   "cell_type": "code",
   "execution_count": 12,
   "id": "20bdd524",
   "metadata": {},
   "outputs": [
    {
     "name": "stdout",
     "output_type": "stream",
     "text": [
      "5\n",
      "7\n",
      "12\n",
      "19\n",
      "31\n",
      "50\n",
      "81\n",
      "131\n",
      "212\n",
      "343\n",
      "555\n",
      "898\n",
      "1453\n",
      "2351\n",
      "3804\n"
     ]
    }
   ],
   "source": [
    "# 5\n",
    "a0=5\n",
    "a1=7\n",
    "i=0\n",
    "while i<8:\n",
    "    print(a0)\n",
    "    if i!=7:\n",
    "        print(a1)\n",
    "    a0=a0+a1\n",
    "    a1=a0+a1\n",
    "    i=i+1\n",
    "    "
   ]
  },
  {
   "cell_type": "code",
   "execution_count": 14,
   "id": "a5e15123",
   "metadata": {},
   "outputs": [
    {
     "name": "stdout",
     "output_type": "stream",
     "text": [
      "2\n",
      "1\n",
      "6.5\n",
      "6.25\n",
      "22.625\n",
      "30.0625\n",
      "82.90625\n",
      "131.640625\n",
      "314.5390625\n",
      "552.19140625\n",
      "1219.712890625\n",
      "2266.4306640625\n",
      "4792.35400390625\n",
      "9195.468994140625\n",
      "18974.796508789062\n",
      "37073.805236816406\n",
      "75461.29214477539\n",
      "148952.0617828369\n",
      "300859.9073257446\n",
      "597286.139011383\n",
      "1201222.7914829254\n",
      "2392469.812775612\n",
      "4799903.280836582\n",
      "9577361.078745127\n",
      "19188390.38188231\n",
      "38326278.427176535\n",
      "76728310.3592352\n",
      "153342990.4611472\n",
      "306856426.30827916\n",
      "613457184.5375812\n",
      "1227297871.193628\n",
      "2454020489.2095575\n",
      "4908903858.185663\n",
      "9816513396.721504\n",
      "19634968272.91774\n",
      "39267024326.62338\n",
      "78538416982.06491\n",
      "157070281470.9026\n",
      "314150391681.646\n",
      "628286040253.5308\n",
      "1256594195171.7034\n",
      "2513155218346.444\n",
      "5026360194688.332\n",
      "10052645752383.498\n",
      "20105403460256.746\n",
      "40210638987278.87\n",
      "80421529874409.67\n",
      "160842681899041.44\n",
      "321685930572749.75\n",
      "643371010983499.2\n",
      "1286743297209999.0\n",
      "2573484681555497.0\n",
      "5146972232407746.0\n",
      "1.0293940160870364e+16\n",
      "2.058788677765842e+16\n",
      "4.11757638714403e+16\n",
      "8.235154226869542e+16\n",
      "1.647030627486686e+17\n",
      "3.294061581804206e+17\n",
      "6.58812267336216e+17\n"
     ]
    }
   ],
   "source": [
    "# 6\n",
    "x0= 2\n",
    "x1 =1\n",
    "i=0\n",
    "while i<30:\n",
    "    print(x0)\n",
    "    print(x1)\n",
    "    x0=3*x0+x1/2\n",
    "    x1=x0/2+x1*3\n",
    "    i=i+1"
   ]
  },
  {
   "cell_type": "code",
   "execution_count": 16,
   "id": "54654b5f",
   "metadata": {},
   "outputs": [
    {
     "name": "stdout",
     "output_type": "stream",
     "text": [
      "Year : 2021\n",
      "No leap\n"
     ]
    }
   ],
   "source": [
    "#7\n",
    "n=int(input(\"Year : \"))\n",
    "if (n+2020)%4 == 0:\n",
    "    print(\"Leap\")\n",
    "else:\n",
    "    print(\"No leap\")"
   ]
  },
  {
   "cell_type": "code",
   "execution_count": 3,
   "id": "c55431d7",
   "metadata": {},
   "outputs": [
    {
     "name": "stdout",
     "output_type": "stream",
     "text": [
      "Nombre: 7\n",
      "91\n",
      "91\n"
     ]
    }
   ],
   "source": [
    "#8 a\n",
    "sum1=0\n",
    "n=int(input(\"Nombre: \"))\n",
    "for i in range(n):\n",
    "    sum1=sum1+i*i    \n",
    "print(sum1)\n",
    "\n",
    "\n",
    "i=0\n",
    "sum1=0\n",
    "while i< n:\n",
    "    sum1=sum1+i*i \n",
    "    i=i+1\n",
    "print(sum1)\n",
    "    \n"
   ]
  },
  {
   "cell_type": "code",
   "execution_count": 9,
   "id": "83b29605",
   "metadata": {},
   "outputs": [
    {
     "name": "stdout",
     "output_type": "stream",
     "text": [
      "Enter M :100\n",
      "The integer is 7.\n",
      "The integer is 7.\n"
     ]
    }
   ],
   "source": [
    "# 8 b\n",
    "M =int(input(\"Enter M :\"))\n",
    "i=0\n",
    "sum1=0\n",
    "tmp=0\n",
    "found=0\n",
    "for i in range(M+1): #The integer we are looking for is always less than M+1\n",
    "    if sum1 < M :\n",
    "        sum1 =sum1 + i*i\n",
    "    else:\n",
    "        if found==0:\n",
    "            tmp=i-1\n",
    "            found=1\n",
    "        \n",
    "\n",
    "print(\"The integer is {}.\".format(tmp))\n",
    "\n",
    "i=0\n",
    "sum1=0\n",
    "while sum1 < M:\n",
    "    sum1 =sum1 + i*i\n",
    "    i=i+1\n",
    "print(\"The integer is {}.\".format(i-1))"
   ]
  },
  {
   "cell_type": "code",
   "execution_count": 11,
   "id": "9065ca40",
   "metadata": {},
   "outputs": [
    {
     "name": "stdout",
     "output_type": "stream",
     "text": [
      "Enter M :10\n",
      "1\n",
      "2\n",
      "5\n",
      "10\n"
     ]
    }
   ],
   "source": [
    "#9 a\n",
    "n =int(input(\"Enter n :\"))\n",
    "for i in range(1,n+1):\n",
    "    if n%i==0:\n",
    "        print(i)\n"
   ]
  },
  {
   "cell_type": "code",
   "execution_count": 12,
   "id": "07c4fd6a",
   "metadata": {},
   "outputs": [
    {
     "name": "stdout",
     "output_type": "stream",
     "text": [
      "Enter n :10\n",
      "The prime is18\n"
     ]
    }
   ],
   "source": [
    "#9 b\n",
    "n =int(input(\"Enter n :\"))\n",
    "sum1=0\n",
    "for i in range(1,n+1):\n",
    "    if n%i==0:\n",
    "        sum1=sum1+i\n",
    "print(\"The prime is {}\".format(sum1))\n"
   ]
  },
  {
   "cell_type": "code",
   "execution_count": 20,
   "id": "79ec7b01",
   "metadata": {},
   "outputs": [
    {
     "name": "stdout",
     "output_type": "stream",
     "text": [
      "0\n",
      "3\n",
      "6\n",
      "7\n",
      "9\n",
      "11\n",
      "12\n",
      "14\n",
      "15\n",
      "18\n",
      "21\n",
      "22\n",
      "24\n",
      "27\n",
      "28\n",
      "30\n",
      "33\n",
      "35\n",
      "36\n",
      "39\n"
     ]
    }
   ],
   "source": [
    "# 11\n",
    "for i in range(41):\n",
    "    if i%3==0 or i%7==0 or i%11==0:\n",
    "        print(i)"
   ]
  }
 ],
 "metadata": {
  "kernelspec": {
   "display_name": "Python 3",
   "language": "python",
   "name": "python3"
  },
  "language_info": {
   "codemirror_mode": {
    "name": "ipython",
    "version": 3
   },
   "file_extension": ".py",
   "mimetype": "text/x-python",
   "name": "python",
   "nbconvert_exporter": "python",
   "pygments_lexer": "ipython3",
   "version": "3.8.5"
  }
 },
 "nbformat": 4,
 "nbformat_minor": 5
}
